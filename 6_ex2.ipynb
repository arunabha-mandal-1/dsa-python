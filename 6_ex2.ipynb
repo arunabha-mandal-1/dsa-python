{
 "cells": [
  {
   "cell_type": "markdown",
   "id": "4f367a94",
   "metadata": {},
   "source": [
    "(b) What was the maximum temperature in first 10 days of Jan"
   ]
  },
  {
   "cell_type": "code",
   "execution_count": 6,
   "id": "c1eb1f40",
   "metadata": {},
   "outputs": [
    {
     "name": "stdout",
     "output_type": "stream",
     "text": [
      "invalid temperature\n"
     ]
    }
   ],
   "source": [
    "temp_dict={}\n",
    "with open('nyc_weather.csv', 'r') as f:\n",
    "    for line in f:\n",
    "        tokens=line.split(',')\n",
    "        try:\n",
    "            day=tokens[0]\n",
    "            temp=int(tokens[1])\n",
    "            temp_dict[day]=temp\n",
    "        except:\n",
    "            print(\"invalid temperature\")"
   ]
  },
  {
   "cell_type": "code",
   "execution_count": 8,
   "id": "17520c98",
   "metadata": {},
   "outputs": [
    {
     "data": {
      "text/plain": [
       "{'1-Jan': 27,\n",
       " '2-Jan': 31,\n",
       " '3-Jan': 23,\n",
       " '4-Jan': 34,\n",
       " '5-Jan': 37,\n",
       " '6-Jan': 38,\n",
       " '7-Jan': 29,\n",
       " '8-Jan': 30,\n",
       " '9-Jan': 35,\n",
       " '10-Jan': 30}"
      ]
     },
     "execution_count": 8,
     "metadata": {},
     "output_type": "execute_result"
    }
   ],
   "source": [
    "temp_dict"
   ]
  },
  {
   "cell_type": "code",
   "execution_count": 11,
   "id": "7cbb2278",
   "metadata": {},
   "outputs": [
    {
     "data": {
      "text/plain": [
       "35"
      ]
     },
     "execution_count": 11,
     "metadata": {},
     "output_type": "execute_result"
    }
   ],
   "source": [
    "temp_dict['9-Jan']"
   ]
  },
  {
   "cell_type": "code",
   "execution_count": 13,
   "id": "f99e497e",
   "metadata": {},
   "outputs": [
    {
     "data": {
      "text/plain": [
       "34"
      ]
     },
     "execution_count": 13,
     "metadata": {},
     "output_type": "execute_result"
    }
   ],
   "source": [
    "temp_dict['4-Jan']"
   ]
  },
  {
   "cell_type": "markdown",
   "id": "6765888d",
   "metadata": {},
   "source": [
    "# The best data structure for this problem\n",
    "The best data structure for this problem is dictionary cuz we want a value(temperature) based on a key(date) which can also be done in O(1) using this DS."
   ]
  }
 ],
 "metadata": {
  "kernelspec": {
   "display_name": "Python 3 (ipykernel)",
   "language": "python",
   "name": "python3"
  },
  "language_info": {
   "codemirror_mode": {
    "name": "ipython",
    "version": 3
   },
   "file_extension": ".py",
   "mimetype": "text/x-python",
   "name": "python",
   "nbconvert_exporter": "python",
   "pygments_lexer": "ipython3",
   "version": "3.10.5"
  }
 },
 "nbformat": 4,
 "nbformat_minor": 5
}
