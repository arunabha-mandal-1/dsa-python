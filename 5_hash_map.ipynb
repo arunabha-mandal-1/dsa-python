{
 "cells": [
  {
   "cell_type": "code",
   "execution_count": 11,
   "id": "aae9d0b7",
   "metadata": {},
   "outputs": [],
   "source": [
    "stock_prices=[]\n",
    "with open(\"stock_prices.csv\", \"r\") as f:\n",
    "    for line in f:\n",
    "        tokens=line.split(',')\n",
    "        day=tokens[0]\n",
    "        price=float(tokens[1])\n",
    "        stock_prices.append([day,price])"
   ]
  },
  {
   "cell_type": "code",
   "execution_count": 12,
   "id": "a1db2997",
   "metadata": {},
   "outputs": [
    {
     "data": {
      "text/plain": [
       "[['6-Mar', 310.0],\n",
       " ['7-Mar', 340.0],\n",
       " ['8-Mar', 380.0],\n",
       " ['9-Mar', 302.0],\n",
       " ['10-Mar', 297.0],\n",
       " ['11-Mar', 323.0]]"
      ]
     },
     "execution_count": 12,
     "metadata": {},
     "output_type": "execute_result"
    }
   ],
   "source": [
    "stock_prices"
   ]
  },
  {
   "cell_type": "code",
   "execution_count": 15,
   "id": "6a863140",
   "metadata": {},
   "outputs": [
    {
     "name": "stdout",
     "output_type": "stream",
     "text": [
      "310.0\n"
     ]
    }
   ],
   "source": [
    "for element in stock_prices:\n",
    "    if element[0]==\"6-Mar\": # order of O(n)\n",
    "        print(element[1])"
   ]
  },
  {
   "cell_type": "code",
   "execution_count": 17,
   "id": "012f435d",
   "metadata": {},
   "outputs": [],
   "source": [
    "stock_prices_dict={} # noe it's a dictionary\n",
    "with open(\"stock_prices.csv\", \"r\") as f:\n",
    "    for line in f:\n",
    "        tokens=line.split(',')\n",
    "        day=tokens[0]\n",
    "        price=float(tokens[1])\n",
    "        stock_prices_dict[day]=price"
   ]
  },
  {
   "cell_type": "code",
   "execution_count": 18,
   "id": "7ae8e37f",
   "metadata": {},
   "outputs": [
    {
     "data": {
      "text/plain": [
       "{'6-Mar': 310.0,\n",
       " '7-Mar': 340.0,\n",
       " '8-Mar': 380.0,\n",
       " '9-Mar': 302.0,\n",
       " '10-Mar': 297.0,\n",
       " '11-Mar': 323.0}"
      ]
     },
     "execution_count": 18,
     "metadata": {},
     "output_type": "execute_result"
    }
   ],
   "source": [
    "stock_prices_dict"
   ]
  },
  {
   "cell_type": "code",
   "execution_count": 19,
   "id": "d4eb8046",
   "metadata": {},
   "outputs": [
    {
     "data": {
      "text/plain": [
       "310.0"
      ]
     },
     "execution_count": 19,
     "metadata": {},
     "output_type": "execute_result"
    }
   ],
   "source": [
    "stock_prices_dict[\"6-Mar\"] # order of O(1) complexity for this search"
   ]
  },
  {
   "cell_type": "code",
   "execution_count": 54,
   "id": "bcf1ab39",
   "metadata": {},
   "outputs": [],
   "source": [
    "# implementing hash table\n",
    "def get_hash(key):\n",
    "    h=0\n",
    "    for char in key:\n",
    "        h+=ord(char)\n",
    "    return h%100"
   ]
  },
  {
   "cell_type": "code",
   "execution_count": 22,
   "id": "13b5b5a5",
   "metadata": {},
   "outputs": [
    {
     "data": {
      "text/plain": [
       "34"
      ]
     },
     "execution_count": 22,
     "metadata": {},
     "output_type": "execute_result"
    }
   ],
   "source": [
    "get_hash(\"arunabha\")"
   ]
  },
  {
   "cell_type": "code",
   "execution_count": 23,
   "id": "a88551d3",
   "metadata": {},
   "outputs": [
    {
     "data": {
      "text/plain": [
       "97"
      ]
     },
     "execution_count": 23,
     "metadata": {},
     "output_type": "execute_result"
    }
   ],
   "source": [
    "ord('a')"
   ]
  },
  {
   "cell_type": "code",
   "execution_count": 1,
   "id": "7755968b",
   "metadata": {},
   "outputs": [],
   "source": [
    "# hash table class\n",
    "class HashTable:\n",
    "    def __init__(self):\n",
    "        self.Max=100\n",
    "        self.arr=[None for i in range(self.Max)]\n",
    "        \n",
    "    def get_hash(self, key):\n",
    "        h=0\n",
    "        for char in key:\n",
    "            h+=ord(char)\n",
    "        return h%self.Max\n",
    "    \n",
    "#     def add(self, key, value):\n",
    "    def __setitem__(self, key, value): # to implement [] operator\n",
    "        h=self.get_hash(key)\n",
    "        self.arr[h]=value\n",
    "        \n",
    "#     def get(self, key):\n",
    "    def __getitem__(self, key): # to implement [] operator   \n",
    "        h=self.get_hash(key)\n",
    "        return self.arr[h]\n",
    "    \n",
    "    def __delitem__(self, key):\n",
    "        h=self.get_hash(key)\n",
    "        self.arr[h]=None"
   ]
  },
  {
   "cell_type": "code",
   "execution_count": 2,
   "id": "a8a8f873",
   "metadata": {},
   "outputs": [],
   "source": [
    "t = HashTable()\n",
    "t['march 6']=100\n",
    "t['march 7']=190\n",
    "t['march 8']=150"
   ]
  },
  {
   "cell_type": "code",
   "execution_count": 3,
   "id": "e821d920",
   "metadata": {
    "collapsed": true
   },
   "outputs": [
    {
     "data": {
      "text/plain": [
       "[None,\n",
       " None,\n",
       " None,\n",
       " None,\n",
       " None,\n",
       " None,\n",
       " None,\n",
       " None,\n",
       " None,\n",
       " 100,\n",
       " 190,\n",
       " 150,\n",
       " None,\n",
       " None,\n",
       " None,\n",
       " None,\n",
       " None,\n",
       " None,\n",
       " None,\n",
       " None,\n",
       " None,\n",
       " None,\n",
       " None,\n",
       " None,\n",
       " None,\n",
       " None,\n",
       " None,\n",
       " None,\n",
       " None,\n",
       " None,\n",
       " None,\n",
       " None,\n",
       " None,\n",
       " None,\n",
       " None,\n",
       " None,\n",
       " None,\n",
       " None,\n",
       " None,\n",
       " None,\n",
       " None,\n",
       " None,\n",
       " None,\n",
       " None,\n",
       " None,\n",
       " None,\n",
       " None,\n",
       " None,\n",
       " None,\n",
       " None,\n",
       " None,\n",
       " None,\n",
       " None,\n",
       " None,\n",
       " None,\n",
       " None,\n",
       " None,\n",
       " None,\n",
       " None,\n",
       " None,\n",
       " None,\n",
       " None,\n",
       " None,\n",
       " None,\n",
       " None,\n",
       " None,\n",
       " None,\n",
       " None,\n",
       " None,\n",
       " None,\n",
       " None,\n",
       " None,\n",
       " None,\n",
       " None,\n",
       " None,\n",
       " None,\n",
       " None,\n",
       " None,\n",
       " None,\n",
       " None,\n",
       " None,\n",
       " None,\n",
       " None,\n",
       " None,\n",
       " None,\n",
       " None,\n",
       " None,\n",
       " None,\n",
       " None,\n",
       " None,\n",
       " None,\n",
       " None,\n",
       " None,\n",
       " None,\n",
       " None,\n",
       " None,\n",
       " None,\n",
       " None,\n",
       " None,\n",
       " None]"
      ]
     },
     "execution_count": 3,
     "metadata": {},
     "output_type": "execute_result"
    }
   ],
   "source": [
    "t.arr"
   ]
  },
  {
   "cell_type": "code",
   "execution_count": 4,
   "id": "690acd92",
   "metadata": {},
   "outputs": [
    {
     "data": {
      "text/plain": [
       "100"
      ]
     },
     "execution_count": 4,
     "metadata": {},
     "output_type": "execute_result"
    }
   ],
   "source": [
    "t['march 6']"
   ]
  },
  {
   "cell_type": "code",
   "execution_count": 5,
   "id": "dc70214a",
   "metadata": {},
   "outputs": [],
   "source": [
    "# search for python operator"
   ]
  },
  {
   "cell_type": "code",
   "execution_count": 6,
   "id": "5e8f2b00",
   "metadata": {},
   "outputs": [],
   "source": [
    "del t['march 6']"
   ]
  },
  {
   "cell_type": "code",
   "execution_count": 7,
   "id": "32540015",
   "metadata": {},
   "outputs": [
    {
     "data": {
      "text/plain": [
       "[None,\n",
       " None,\n",
       " None,\n",
       " None,\n",
       " None,\n",
       " None,\n",
       " None,\n",
       " None,\n",
       " None,\n",
       " None,\n",
       " 190,\n",
       " 150,\n",
       " None,\n",
       " None,\n",
       " None,\n",
       " None,\n",
       " None,\n",
       " None,\n",
       " None,\n",
       " None,\n",
       " None,\n",
       " None,\n",
       " None,\n",
       " None,\n",
       " None,\n",
       " None,\n",
       " None,\n",
       " None,\n",
       " None,\n",
       " None,\n",
       " None,\n",
       " None,\n",
       " None,\n",
       " None,\n",
       " None,\n",
       " None,\n",
       " None,\n",
       " None,\n",
       " None,\n",
       " None,\n",
       " None,\n",
       " None,\n",
       " None,\n",
       " None,\n",
       " None,\n",
       " None,\n",
       " None,\n",
       " None,\n",
       " None,\n",
       " None,\n",
       " None,\n",
       " None,\n",
       " None,\n",
       " None,\n",
       " None,\n",
       " None,\n",
       " None,\n",
       " None,\n",
       " None,\n",
       " None,\n",
       " None,\n",
       " None,\n",
       " None,\n",
       " None,\n",
       " None,\n",
       " None,\n",
       " None,\n",
       " None,\n",
       " None,\n",
       " None,\n",
       " None,\n",
       " None,\n",
       " None,\n",
       " None,\n",
       " None,\n",
       " None,\n",
       " None,\n",
       " None,\n",
       " None,\n",
       " None,\n",
       " None,\n",
       " None,\n",
       " None,\n",
       " None,\n",
       " None,\n",
       " None,\n",
       " None,\n",
       " None,\n",
       " None,\n",
       " None,\n",
       " None,\n",
       " None,\n",
       " None,\n",
       " None,\n",
       " None,\n",
       " None,\n",
       " None,\n",
       " None,\n",
       " None,\n",
       " None]"
      ]
     },
     "execution_count": 7,
     "metadata": {},
     "output_type": "execute_result"
    }
   ],
   "source": [
    "t.arr"
   ]
  },
  {
   "cell_type": "code",
   "execution_count": 8,
   "id": "d9236d34",
   "metadata": {},
   "outputs": [],
   "source": [
    "# now the 'march 6' is gone"
   ]
  }
 ],
 "metadata": {
  "kernelspec": {
   "display_name": "Python 3.10.5 64-bit",
   "language": "python",
   "name": "python3"
  },
  "language_info": {
   "codemirror_mode": {
    "name": "ipython",
    "version": 3
   },
   "file_extension": ".py",
   "mimetype": "text/x-python",
   "name": "python",
   "nbconvert_exporter": "python",
   "pygments_lexer": "ipython3",
   "version": "3.10.5"
  },
  "vscode": {
   "interpreter": {
    "hash": "369f2c481f4da34e4445cda3fffd2e751bd1c4d706f27375911949ba6bb62e1c"
   }
  }
 },
 "nbformat": 4,
 "nbformat_minor": 5
}
