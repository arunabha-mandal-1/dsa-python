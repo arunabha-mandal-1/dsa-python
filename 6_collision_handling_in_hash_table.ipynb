{
 "cells": [
  {
   "cell_type": "code",
   "execution_count": 1,
   "id": "facaab5f",
   "metadata": {},
   "outputs": [],
   "source": [
    "# hash table class > handling chaining > implementing chaining\n",
    "class HashTable:\n",
    "    def __init__(self):\n",
    "        self.Max=10\n",
    "        self.arr=[[] for i in range(self.Max)]\n",
    "        \n",
    "    def get_hash(self, key):\n",
    "        h=0\n",
    "        for char in key:\n",
    "            h+=ord(char)\n",
    "        return h%self.Max\n",
    "    \n",
    "#     def add(self, key, value):\n",
    "    def __setitem__(self, key, value): # to implement [] operator\n",
    "        h=self.get_hash(key)\n",
    "        found=False\n",
    "        for idx, element in enumerate(self.arr[h]):\n",
    "            if len(element)==2 and element[0]==key:\n",
    "                self.arr[h][idx]=(key, value)\n",
    "                found=True\n",
    "        if not found:\n",
    "            self.arr[h].append((key,value))\n",
    "\n",
    "        \n",
    "#     def get(self, key):\n",
    "    def __getitem__(self, key): # to implement [] operator   \n",
    "        h=self.get_hash(key)\n",
    "        for element in self.arr[h]:\n",
    "            if element[0]==key:\n",
    "                return element[1]\n",
    "                # when we don't return anything in python, it returns NULL automatically\n",
    "    \n",
    "    def __delitem__(self, key):\n",
    "        h=self.get_hash(key)\n",
    "        for idx, element in enumerate(self.arr[h]):\n",
    "            if element[0]==key:\n",
    "                del self.arr[h][idx]"
   ]
  },
  {
   "cell_type": "code",
   "execution_count": 3,
   "id": "4e9b3f7a",
   "metadata": {},
   "outputs": [
    {
     "data": {
      "text/plain": [
       "9"
      ]
     },
     "execution_count": 3,
     "metadata": {},
     "output_type": "execute_result"
    }
   ],
   "source": [
    "t=HashTable()\n",
    "t.get_hash(\"march 6\")"
   ]
  },
  {
   "cell_type": "code",
   "execution_count": 4,
   "id": "3b570ed4",
   "metadata": {},
   "outputs": [
    {
     "data": {
      "text/plain": [
       "9"
      ]
     },
     "execution_count": 4,
     "metadata": {},
     "output_type": "execute_result"
    }
   ],
   "source": [
    "t.get_hash(\"march 17\")"
   ]
  },
  {
   "cell_type": "code",
   "execution_count": 7,
   "id": "4463f251",
   "metadata": {},
   "outputs": [],
   "source": [
    "t[\"march 6\"]=120\n",
    "t[\"march 8\"]=67\n",
    "t[\"march 9\"]=4\n",
    "t[\"march 17\"]=459\n",
    "t[\"march 6\"]=126"
   ]
  },
  {
   "cell_type": "code",
   "execution_count": 8,
   "id": "1e524821",
   "metadata": {},
   "outputs": [
    {
     "data": {
      "text/plain": [
       "126"
      ]
     },
     "execution_count": 8,
     "metadata": {},
     "output_type": "execute_result"
    }
   ],
   "source": [
    "t[\"march 6\"] # over-written by \"march 17\" initially (without handling collision)"
   ]
  },
  {
   "cell_type": "code",
   "execution_count": 51,
   "id": "59c01bd7",
   "metadata": {},
   "outputs": [
    {
     "data": {
      "text/plain": [
       "[[],\n",
       " [('march 8', 67)],\n",
       " [('march 9', 4)],\n",
       " [],\n",
       " [],\n",
       " [],\n",
       " [],\n",
       " [],\n",
       " [],\n",
       " [('march 6', 120), ('march 17', 459)]]"
      ]
     },
     "execution_count": 51,
     "metadata": {},
     "output_type": "execute_result"
    }
   ],
   "source": [
    "t.arr"
   ]
  },
  {
   "cell_type": "code",
   "execution_count": 52,
   "id": "a4b8200e",
   "metadata": {},
   "outputs": [
    {
     "data": {
      "text/plain": [
       "[('march 6', 120), ('march 17', 459)]"
      ]
     },
     "execution_count": 52,
     "metadata": {},
     "output_type": "execute_result"
    }
   ],
   "source": [
    "t.arr[9]"
   ]
  },
  {
   "cell_type": "code",
   "execution_count": 53,
   "id": "9340ec8a",
   "metadata": {},
   "outputs": [
    {
     "data": {
      "text/plain": [
       "'march 6'"
      ]
     },
     "execution_count": 53,
     "metadata": {},
     "output_type": "execute_result"
    }
   ],
   "source": [
    "t.arr[9][0][0]"
   ]
  },
  {
   "cell_type": "code",
   "execution_count": 54,
   "id": "d916f931",
   "metadata": {},
   "outputs": [
    {
     "data": {
      "text/plain": [
       "120"
      ]
     },
     "execution_count": 54,
     "metadata": {},
     "output_type": "execute_result"
    }
   ],
   "source": [
    "t[\"march 6\"]"
   ]
  },
  {
   "cell_type": "code",
   "execution_count": 55,
   "id": "76f55514",
   "metadata": {},
   "outputs": [
    {
     "data": {
      "text/plain": [
       "459"
      ]
     },
     "execution_count": 55,
     "metadata": {},
     "output_type": "execute_result"
    }
   ],
   "source": [
    "t[\"march 17\"]"
   ]
  },
  {
   "cell_type": "code",
   "execution_count": 56,
   "id": "cfcb0981",
   "metadata": {},
   "outputs": [
    {
     "data": {
      "text/plain": [
       "('march 6', 120)"
      ]
     },
     "execution_count": 56,
     "metadata": {},
     "output_type": "execute_result"
    }
   ],
   "source": [
    "t.arr[9][0]"
   ]
  },
  {
   "cell_type": "code",
   "execution_count": 57,
   "id": "e6b89442",
   "metadata": {},
   "outputs": [
    {
     "data": {
      "text/plain": [
       "('march 17', 459)"
      ]
     },
     "execution_count": 57,
     "metadata": {},
     "output_type": "execute_result"
    }
   ],
   "source": [
    "t.arr[9][1]"
   ]
  },
  {
   "cell_type": "code",
   "execution_count": 58,
   "id": "83597a6b",
   "metadata": {},
   "outputs": [
    {
     "data": {
      "text/plain": [
       "[[],\n",
       " [('march 8', 67)],\n",
       " [('march 9', 4)],\n",
       " [],\n",
       " [],\n",
       " [],\n",
       " [],\n",
       " [],\n",
       " [],\n",
       " [('march 6', 120), ('march 17', 459)]]"
      ]
     },
     "execution_count": 58,
     "metadata": {},
     "output_type": "execute_result"
    }
   ],
   "source": [
    "t.arr"
   ]
  },
  {
   "cell_type": "code",
   "execution_count": 59,
   "id": "7b54e25f",
   "metadata": {},
   "outputs": [],
   "source": [
    "del t[\"march 17\"]"
   ]
  },
  {
   "cell_type": "code",
   "execution_count": 60,
   "id": "ad419c5f",
   "metadata": {},
   "outputs": [
    {
     "data": {
      "text/plain": [
       "('march 6', 120)"
      ]
     },
     "execution_count": 60,
     "metadata": {},
     "output_type": "execute_result"
    }
   ],
   "source": [
    "t.arr[9][0]"
   ]
  },
  {
   "cell_type": "code",
   "execution_count": 61,
   "id": "ed908af2",
   "metadata": {},
   "outputs": [
    {
     "data": {
      "text/plain": [
       "[[],\n",
       " [('march 8', 67)],\n",
       " [('march 9', 4)],\n",
       " [],\n",
       " [],\n",
       " [],\n",
       " [],\n",
       " [],\n",
       " [],\n",
       " [('march 6', 120)]]"
      ]
     },
     "execution_count": 61,
     "metadata": {},
     "output_type": "execute_result"
    }
   ],
   "source": [
    "t.arr"
   ]
  },
  {
   "cell_type": "code",
   "execution_count": 62,
   "id": "8756bf4a",
   "metadata": {},
   "outputs": [],
   "source": [
    "t[\"march 17\"]"
   ]
  }
 ],
 "metadata": {
  "kernelspec": {
   "display_name": "Python 3.10.5 64-bit",
   "language": "python",
   "name": "python3"
  },
  "language_info": {
   "codemirror_mode": {
    "name": "ipython",
    "version": 3
   },
   "file_extension": ".py",
   "mimetype": "text/x-python",
   "name": "python",
   "nbconvert_exporter": "python",
   "pygments_lexer": "ipython3",
   "version": "3.10.5"
  },
  "vscode": {
   "interpreter": {
    "hash": "369f2c481f4da34e4445cda3fffd2e751bd1c4d706f27375911949ba6bb62e1c"
   }
  }
 },
 "nbformat": 4,
 "nbformat_minor": 5
}
