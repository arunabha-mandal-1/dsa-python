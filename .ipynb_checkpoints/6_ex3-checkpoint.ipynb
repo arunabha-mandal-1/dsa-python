{
 "cells": [
  {
   "cell_type": "code",
   "execution_count": 11,
   "id": "c986215e",
   "metadata": {},
   "outputs": [
    {
     "name": "stdout",
     "output_type": "stream",
     "text": [
      "['Two roads diverged in a yellow wood,\\n']\n",
      "['And sorry I could not travel both\\n']\n",
      "['And be one traveler', 'long I stood\\n']\n",
      "['And looked down one as far as I could\\n']\n",
      "['To where it bent in the undergrowth;\\n']\n",
      "['\\n']\n",
      "['Then took the other', 'as just as fair,\\n']\n",
      "['And having perhaps the better claim,\\n']\n",
      "['Because it was grassy and wanted wear;\\n']\n",
      "['Though as for that the passing there\\n']\n",
      "['Had worn them really about the same,\\n']\n",
      "['\\n']\n",
      "['And both that morning equally lay\\n']\n",
      "['In leaves no step had trodden black.\\n']\n",
      "['Oh', 'I kept the first for another day!\\n']\n",
      "['Yet knowing how way leads on to way,\\n']\n",
      "['I doubted if I should ever come back.\\n']\n",
      "['\\n']\n",
      "['I shall be telling this with a sigh\\n']\n",
      "['Somewhere ages and ages hence:\\n']\n",
      "['Two roads diverged in a wood', 'and Iâ€”\\n']\n",
      "['I took the one less traveled by,\\n']\n",
      "['And that has made all the difference.']\n"
     ]
    }
   ],
   "source": [
    "poem_dict={}\n",
    "with open('poem.txt', 'r') as f:\n",
    "    for line in f:\n",
    "        tokens=line.split(' ')\n",
    "        print(tokens)"
   ]
  }
 ],
 "metadata": {
  "kernelspec": {
   "display_name": "Python 3 (ipykernel)",
   "language": "python",
   "name": "python3"
  },
  "language_info": {
   "codemirror_mode": {
    "name": "ipython",
    "version": 3
   },
   "file_extension": ".py",
   "mimetype": "text/x-python",
   "name": "python",
   "nbconvert_exporter": "python",
   "pygments_lexer": "ipython3",
   "version": "3.10.5"
  }
 },
 "nbformat": 4,
 "nbformat_minor": 5
}
