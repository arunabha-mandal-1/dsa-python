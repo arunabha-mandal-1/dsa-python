{
 "cells": [
  {
   "cell_type": "markdown",
   "id": "b6169c77",
   "metadata": {},
   "source": [
    "Handling collisions using linear collision"
   ]
  },
  {
   "cell_type": "code",
   "execution_count": 37,
   "id": "a36eb6fc",
   "metadata": {},
   "outputs": [],
   "source": [
    "class HashMap:\n",
    "    def __init__(self):\n",
    "        self.Max=10\n",
    "        self.arr=[None for i in range(self.Max)]\n",
    "    \n",
    "    def get_hash(self, key):\n",
    "        h=0\n",
    "        for char in key:\n",
    "            h+=ord(char)\n",
    "        return h%self.Max\n",
    "    \n",
    "    def get_prob_range(self, index):\n",
    "        return [*range(index, len(self.arr))] + [*range(0,index)]\n",
    "    \n",
    "    def find_slot(self, key, index):\n",
    "        prob_range=self.get_prob_range(index)\n",
    "        for prob_index in prob_range:\n",
    "            if self.arr[prob_index] == None:\n",
    "                return prob_index\n",
    "            elif self.arr[prob_index] == key:\n",
    "                return prob_index\n",
    "        raise Exception(\"Hashmap is full\")\n",
    "        \n",
    "    def __setitem__(self, key, value):\n",
    "        h=self.get_hash(key)\n",
    "        if self.arr[h]==None:\n",
    "            self.arr[h]=(key,value)\n",
    "        else:\n",
    "            new_h=self.find_slot(key,h)\n",
    "            self.arr[new_h]=(key,value)\n",
    "        print(self.arr)\n",
    "    \n",
    "    def __getitem__(self, key):\n",
    "        h=self.get_hash(key)\n",
    "        if self.arr[h] == None:\n",
    "            return\n",
    "        prob_range = self.get_prob_range(h)\n",
    "        for prob_index in prob_range:\n",
    "            element = self.arr[prob_index]\n",
    "            if element is None:\n",
    "                return\n",
    "            if element[0] == key:\n",
    "                return element[1]\n",
    "        \n",
    "    def __delitem__(self,key):\n",
    "        h = self.get_hash(key)\n",
    "        prob_range = self.get_prob_range(h)\n",
    "        for prob_index in prob_range:\n",
    "            if self.arr[prob_index] is None:\n",
    "                return # item not found so return. You can also throw exception\n",
    "            if self.arr[prob_index][0] == key:\n",
    "                self.arr[prob_index]=None\n",
    "        print(self.arr)"
   ]
  },
  {
   "cell_type": "code",
   "execution_count": 38,
   "id": "cdeb04ae",
   "metadata": {},
   "outputs": [],
   "source": [
    "t = HashMap()"
   ]
  },
  {
   "cell_type": "code",
   "execution_count": 39,
   "id": "32278cd7",
   "metadata": {},
   "outputs": [
    {
     "data": {
      "text/plain": [
       "4"
      ]
     },
     "execution_count": 39,
     "metadata": {},
     "output_type": "execute_result"
    }
   ],
   "source": [
    "t.get_hash('arunabha')"
   ]
  },
  {
   "cell_type": "code",
   "execution_count": 40,
   "id": "3982db90",
   "metadata": {},
   "outputs": [
    {
     "name": "stdout",
     "output_type": "stream",
     "text": [
      "[None, None, None, None, ('march 1', 10), None, None, None, None, None]\n"
     ]
    }
   ],
   "source": [
    "t[\"march 1\"] = 10"
   ]
  },
  {
   "cell_type": "code",
   "execution_count": 41,
   "id": "c24bea57",
   "metadata": {},
   "outputs": [
    {
     "name": "stdout",
     "output_type": "stream",
     "text": [
      "[None, None, None, None, ('march 1', 10), ('march 2', 20), None, None, None, None]\n",
      "[None, None, None, None, ('march 1', 10), ('march 2', 20), ('march 3', 30), None, None, None]\n"
     ]
    }
   ],
   "source": [
    "t[\"march 2\"] = 20\n",
    "t[\"march 3\"] = 30"
   ]
  },
  {
   "cell_type": "code",
   "execution_count": 42,
   "id": "d31e9cb4",
   "metadata": {},
   "outputs": [
    {
     "name": "stdout",
     "output_type": "stream",
     "text": [
      "[None, None, None, None, ('march 1', 10), ('march 2', 20), ('march 3', 30), ('march 4', 40), None, None]\n",
      "[None, None, None, None, ('march 1', 10), ('march 2', 20), ('march 3', 30), ('march 4', 40), ('march 5', 50), None]\n",
      "[None, None, None, None, ('march 1', 10), ('march 2', 20), ('march 3', 30), ('march 4', 40), ('march 5', 50), ('march 6', 60)]\n",
      "[('march 7', 70), None, None, None, ('march 1', 10), ('march 2', 20), ('march 3', 30), ('march 4', 40), ('march 5', 50), ('march 6', 60)]\n",
      "[('march 7', 70), ('march 8', 80), None, None, ('march 1', 10), ('march 2', 20), ('march 3', 30), ('march 4', 40), ('march 5', 50), ('march 6', 60)]\n",
      "[('march 7', 70), ('march 8', 80), ('march 9', 90), None, ('march 1', 10), ('march 2', 20), ('march 3', 30), ('march 4', 40), ('march 5', 50), ('march 6', 60)]\n",
      "[('march 7', 70), ('march 8', 80), ('march 9', 90), ('march 10', 100), ('march 1', 10), ('march 2', 20), ('march 3', 30), ('march 4', 40), ('march 5', 50), ('march 6', 60)]\n"
     ]
    }
   ],
   "source": [
    "t[\"march 4\"] = 40\n",
    "t[\"march 5\"] = 50\n",
    "t[\"march 6\"] = 60\n",
    "t[\"march 7\"] = 70\n",
    "t[\"march 8\"] = 80\n",
    "t[\"march 9\"] = 90\n",
    "t[\"march 10\"] = 100"
   ]
  },
  {
   "cell_type": "code",
   "execution_count": 59,
   "id": "b3fd0356",
   "metadata": {
    "scrolled": true
   },
   "outputs": [
    {
     "data": {
      "text/plain": [
       "[('march 7', 70),\n",
       " ('march 8', 80),\n",
       " ('march 9', 90),\n",
       " ('march 22', 220),\n",
       " ('march 1', 10),\n",
       " ('march 2', 20),\n",
       " ('march 3', 30),\n",
       " ('march 4', 40),\n",
       " ('march 5', 50),\n",
       " ('march 6', 60)]"
      ]
     },
     "execution_count": 59,
     "metadata": {},
     "output_type": "execute_result"
    }
   ],
   "source": [
    "t.arr"
   ]
  },
  {
   "cell_type": "code",
   "execution_count": 61,
   "id": "a57aee78",
   "metadata": {},
   "outputs": [],
   "source": [
    "del t['march 4']"
   ]
  },
  {
   "cell_type": "code",
   "execution_count": 62,
   "id": "02f2d45a",
   "metadata": {},
   "outputs": [
    {
     "data": {
      "text/plain": [
       "[('march 7', 70),\n",
       " ('march 8', 80),\n",
       " ('march 9', 90),\n",
       " ('march 22', 220),\n",
       " ('march 1', 10),\n",
       " ('march 2', 20),\n",
       " ('march 3', 30),\n",
       " None,\n",
       " ('march 5', 50),\n",
       " ('march 6', 60)]"
      ]
     },
     "execution_count": 62,
     "metadata": {},
     "output_type": "execute_result"
    }
   ],
   "source": [
    "t.arr"
   ]
  }
 ],
 "metadata": {
  "kernelspec": {
   "display_name": "Python 3 (ipykernel)",
   "language": "python",
   "name": "python3"
  },
  "language_info": {
   "codemirror_mode": {
    "name": "ipython",
    "version": 3
   },
   "file_extension": ".py",
   "mimetype": "text/x-python",
   "name": "python",
   "nbconvert_exporter": "python",
   "pygments_lexer": "ipython3",
   "version": "3.10.5"
  }
 },
 "nbformat": 4,
 "nbformat_minor": 5
}
