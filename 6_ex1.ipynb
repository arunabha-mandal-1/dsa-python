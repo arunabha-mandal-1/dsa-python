{
 "cells": [
  {
   "cell_type": "markdown",
   "id": "72586599",
   "metadata": {},
   "source": [
    "(a) What was the average temperature in first week of Jan"
   ]
  },
  {
   "cell_type": "code",
   "execution_count": 73,
   "id": "90cac2ce",
   "metadata": {},
   "outputs": [
    {
     "name": "stdout",
     "output_type": "stream",
     "text": [
      "Invalid temperature.Ignore the row\n"
     ]
    }
   ],
   "source": [
    "temp_list=[]\n",
    "with open('nyc_weather.csv', 'r') as f:\n",
    "    for line in f:\n",
    "        tokens=line.split(',')\n",
    "        try:\n",
    "            temperature = int(tokens[1])\n",
    "            temp_list.append(temperature)\n",
    "        except:\n",
    "            print(\"Invalid temperature.Ignore the row\")"
   ]
  },
  {
   "cell_type": "code",
   "execution_count": 63,
   "id": "89140819",
   "metadata": {},
   "outputs": [
    {
     "data": {
      "text/plain": [
       "[27, 31, 23, 34, 37, 38, 29, 30, 35, 30]"
      ]
     },
     "execution_count": 63,
     "metadata": {},
     "output_type": "execute_result"
    }
   ],
   "source": [
    "temp_list"
   ]
  },
  {
   "cell_type": "code",
   "execution_count": 67,
   "id": "03491661",
   "metadata": {},
   "outputs": [],
   "source": [
    "avg=sum(temp_list[0:7])/7"
   ]
  },
  {
   "cell_type": "code",
   "execution_count": 70,
   "id": "0aad770d",
   "metadata": {},
   "outputs": [
    {
     "data": {
      "text/plain": [
       "31.29"
      ]
     },
     "execution_count": 70,
     "metadata": {},
     "output_type": "execute_result"
    }
   ],
   "source": [
    "round(avg,2)"
   ]
  },
  {
   "cell_type": "markdown",
   "id": "0345b769",
   "metadata": {},
   "source": [
    "# The best data structure for this problem\n",
    "The best data structure for this problem is list cuz we just want to access values."
   ]
  }
 ],
 "metadata": {
  "kernelspec": {
   "display_name": "Python 3 (ipykernel)",
   "language": "python",
   "name": "python3"
  },
  "language_info": {
   "codemirror_mode": {
    "name": "ipython",
    "version": 3
   },
   "file_extension": ".py",
   "mimetype": "text/x-python",
   "name": "python",
   "nbconvert_exporter": "python",
   "pygments_lexer": "ipython3",
   "version": "3.10.5"
  }
 },
 "nbformat": 4,
 "nbformat_minor": 5
}
